{
 "cells": [
  {
   "cell_type": "code",
   "execution_count": 2,
   "metadata": {},
   "outputs": [],
   "source": [
    "from pybaseball import batting_stats"
   ]
  },
  {
   "cell_type": "code",
   "execution_count": 3,
   "metadata": {},
   "outputs": [],
   "source": [
    "df = batting_stats(2019)"
   ]
  },
  {
   "cell_type": "code",
   "execution_count": 5,
   "metadata": {},
   "outputs": [],
   "source": [
    "df.to_csv('baseball_stats.csv')"
   ]
  },
  {
   "cell_type": "code",
   "execution_count": 6,
   "metadata": {},
   "outputs": [],
   "source": [
    "from pybaseball import schedule_and_record"
   ]
  },
  {
   "cell_type": "code",
   "execution_count": 7,
   "metadata": {},
   "outputs": [],
   "source": [
    "df = schedule_and_record(2020,\"NYY\")"
   ]
  },
  {
   "cell_type": "code",
   "execution_count": 8,
   "metadata": {},
   "outputs": [
    {
     "data": {
      "text/html": [
       "<div>\n",
       "<style scoped>\n",
       "    .dataframe tbody tr th:only-of-type {\n",
       "        vertical-align: middle;\n",
       "    }\n",
       "\n",
       "    .dataframe tbody tr th {\n",
       "        vertical-align: top;\n",
       "    }\n",
       "\n",
       "    .dataframe thead th {\n",
       "        text-align: right;\n",
       "    }\n",
       "</style>\n",
       "<table border=\"1\" class=\"dataframe\">\n",
       "  <thead>\n",
       "    <tr style=\"text-align: right;\">\n",
       "      <th></th>\n",
       "      <th>Date</th>\n",
       "      <th>Tm</th>\n",
       "      <th>Home_Away</th>\n",
       "      <th>Opp</th>\n",
       "      <th>W/L</th>\n",
       "      <th>R</th>\n",
       "      <th>RA</th>\n",
       "      <th>Inn</th>\n",
       "      <th>W-L</th>\n",
       "      <th>Rank</th>\n",
       "      <th>GB</th>\n",
       "      <th>Win</th>\n",
       "      <th>Loss</th>\n",
       "      <th>Save</th>\n",
       "      <th>Time</th>\n",
       "      <th>D/N</th>\n",
       "      <th>Attendance</th>\n",
       "      <th>Streak</th>\n",
       "      <th>Orig. Scheduled</th>\n",
       "    </tr>\n",
       "  </thead>\n",
       "  <tbody>\n",
       "    <tr>\n",
       "      <th>1</th>\n",
       "      <td>Thursday, Jul 23</td>\n",
       "      <td>NYY</td>\n",
       "      <td>@</td>\n",
       "      <td>WSN</td>\n",
       "      <td>W</td>\n",
       "      <td>4.0</td>\n",
       "      <td>1.0</td>\n",
       "      <td>6.0</td>\n",
       "      <td>1-0</td>\n",
       "      <td>1.0</td>\n",
       "      <td>up 0.5</td>\n",
       "      <td>Cole</td>\n",
       "      <td>Scherzer</td>\n",
       "      <td>None</td>\n",
       "      <td>1:43</td>\n",
       "      <td>N</td>\n",
       "      <td>NaN</td>\n",
       "      <td>1.0</td>\n",
       "      <td>None</td>\n",
       "    </tr>\n",
       "    <tr>\n",
       "      <th>2</th>\n",
       "      <td>Saturday, Jul 25</td>\n",
       "      <td>NYY</td>\n",
       "      <td>@</td>\n",
       "      <td>WSN</td>\n",
       "      <td>L</td>\n",
       "      <td>2.0</td>\n",
       "      <td>9.0</td>\n",
       "      <td>9.0</td>\n",
       "      <td>1-1</td>\n",
       "      <td>1.0</td>\n",
       "      <td>Tied</td>\n",
       "      <td>Rainey</td>\n",
       "      <td>Paxton</td>\n",
       "      <td>None</td>\n",
       "      <td>3:13</td>\n",
       "      <td>N</td>\n",
       "      <td>NaN</td>\n",
       "      <td>-1.0</td>\n",
       "      <td>None</td>\n",
       "    </tr>\n",
       "    <tr>\n",
       "      <th>3</th>\n",
       "      <td>Sunday, Jul 26</td>\n",
       "      <td>NYY</td>\n",
       "      <td>@</td>\n",
       "      <td>WSN</td>\n",
       "      <td>W</td>\n",
       "      <td>3.0</td>\n",
       "      <td>2.0</td>\n",
       "      <td>9.0</td>\n",
       "      <td>2-1</td>\n",
       "      <td>1.0</td>\n",
       "      <td>Tied</td>\n",
       "      <td>Green</td>\n",
       "      <td>Doolittle</td>\n",
       "      <td>Britton</td>\n",
       "      <td>3:07</td>\n",
       "      <td>D</td>\n",
       "      <td>NaN</td>\n",
       "      <td>1.0</td>\n",
       "      <td>None</td>\n",
       "    </tr>\n",
       "    <tr>\n",
       "      <th>4</th>\n",
       "      <td>Wednesday, Jul 29</td>\n",
       "      <td>NYY</td>\n",
       "      <td>@</td>\n",
       "      <td>BAL</td>\n",
       "      <td>W</td>\n",
       "      <td>9.0</td>\n",
       "      <td>3.0</td>\n",
       "      <td>9.0</td>\n",
       "      <td>3-1</td>\n",
       "      <td>1.0</td>\n",
       "      <td>Tied</td>\n",
       "      <td>Cole</td>\n",
       "      <td>Wojciechowski</td>\n",
       "      <td>None</td>\n",
       "      <td>3:12</td>\n",
       "      <td>N</td>\n",
       "      <td>NaN</td>\n",
       "      <td>2.0</td>\n",
       "      <td>None</td>\n",
       "    </tr>\n",
       "    <tr>\n",
       "      <th>5</th>\n",
       "      <td>Thursday, Jul 30</td>\n",
       "      <td>NYY</td>\n",
       "      <td>@</td>\n",
       "      <td>BAL</td>\n",
       "      <td>W</td>\n",
       "      <td>8.0</td>\n",
       "      <td>6.0</td>\n",
       "      <td>9.0</td>\n",
       "      <td>4-1</td>\n",
       "      <td>1.0</td>\n",
       "      <td>up 1.0</td>\n",
       "      <td>Loaisiga</td>\n",
       "      <td>Sulser</td>\n",
       "      <td>Britton</td>\n",
       "      <td>3:06</td>\n",
       "      <td>N</td>\n",
       "      <td>NaN</td>\n",
       "      <td>3.0</td>\n",
       "      <td>None</td>\n",
       "    </tr>\n",
       "  </tbody>\n",
       "</table>\n",
       "</div>"
      ],
      "text/plain": [
       "                Date   Tm Home_Away  Opp W/L    R   RA  Inn  W-L  Rank  \\\n",
       "1   Thursday, Jul 23  NYY         @  WSN   W  4.0  1.0  6.0  1-0   1.0   \n",
       "2   Saturday, Jul 25  NYY         @  WSN   L  2.0  9.0  9.0  1-1   1.0   \n",
       "3     Sunday, Jul 26  NYY         @  WSN   W  3.0  2.0  9.0  2-1   1.0   \n",
       "4  Wednesday, Jul 29  NYY         @  BAL   W  9.0  3.0  9.0  3-1   1.0   \n",
       "5   Thursday, Jul 30  NYY         @  BAL   W  8.0  6.0  9.0  4-1   1.0   \n",
       "\n",
       "       GB       Win           Loss     Save  Time D/N  Attendance  Streak  \\\n",
       "1  up 0.5      Cole       Scherzer     None  1:43   N         NaN     1.0   \n",
       "2    Tied    Rainey         Paxton     None  3:13   N         NaN    -1.0   \n",
       "3    Tied     Green      Doolittle  Britton  3:07   D         NaN     1.0   \n",
       "4    Tied      Cole  Wojciechowski     None  3:12   N         NaN     2.0   \n",
       "5  up 1.0  Loaisiga         Sulser  Britton  3:06   N         NaN     3.0   \n",
       "\n",
       "  Orig. Scheduled  \n",
       "1            None  \n",
       "2            None  \n",
       "3            None  \n",
       "4            None  \n",
       "5            None  "
      ]
     },
     "execution_count": 8,
     "metadata": {},
     "output_type": "execute_result"
    }
   ],
   "source": [
    "df.head()"
   ]
  },
  {
   "cell_type": "code",
   "execution_count": 9,
   "metadata": {},
   "outputs": [],
   "source": [
    "from pybaseball import retrosheet"
   ]
  },
  {
   "cell_type": "code",
   "execution_count": 10,
   "metadata": {},
   "outputs": [],
   "source": [
    "df = retrosheet.season_game_logs(2019)"
   ]
  },
  {
   "cell_type": "code",
   "execution_count": 12,
   "metadata": {},
   "outputs": [],
   "source": [
    "df.to_csv('retrosheet_data.csv')"
   ]
  },
  {
   "cell_type": "code",
   "execution_count": null,
   "metadata": {},
   "outputs": [],
   "source": []
  }
 ],
 "metadata": {
  "kernelspec": {
   "display_name": "Python 3",
   "language": "python",
   "name": "python3"
  },
  "language_info": {
   "codemirror_mode": {
    "name": "ipython",
    "version": 3
   },
   "file_extension": ".py",
   "mimetype": "text/x-python",
   "name": "python",
   "nbconvert_exporter": "python",
   "pygments_lexer": "ipython3",
   "version": "3.8.1"
  }
 },
 "nbformat": 4,
 "nbformat_minor": 4
}
